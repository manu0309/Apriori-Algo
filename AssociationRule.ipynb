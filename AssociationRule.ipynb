{
 "cells": [
  {
   "cell_type": "markdown",
   "metadata": {},
   "source": [
    "### Implementation Apriori Algorithm"
   ]
  },
  {
   "cell_type": "code",
   "execution_count": 87,
   "metadata": {},
   "outputs": [],
   "source": [
    "import numpy as np\n",
    "def loadDataSet():\n",
    "    return [['A','B','E'],['B','D'],['B','C'],['A','B','D'],['A','C'],['B','C'],['A','C'],['A','B','C','E'],['A','B','C']]"
   ]
  },
  {
   "cell_type": "code",
   "execution_count": 88,
   "metadata": {},
   "outputs": [],
   "source": [
    "def createC1(dataSet):\n",
    "    C1 = []\n",
    "    for transaction in dataSet:\n",
    "        for item in transaction:\n",
    "            if not [item] in C1:\n",
    "                C1.append([item])\n",
    "    C1.sort()\n",
    "    return list(map(frozenset,C1))"
   ]
  },
  {
   "cell_type": "code",
   "execution_count": 89,
   "metadata": {},
   "outputs": [],
   "source": [
    "def scanD(D,Ck,minSupport):\n",
    "    SCnt = {}\n",
    "    for tid in D:\n",
    "        for cand in Ck:\n",
    "            if cand.issubset(tid):\n",
    "                if not cand in SCnt:\n",
    "                    SCnt[cand]=1\n",
    "                else:\n",
    "                    SCnt[cand]+=1\n",
    "    numItems = float(len(D))\n",
    "    retList = []\n",
    "    supportData = {}\n",
    "    for key in SCnt:\n",
    "        if SCnt[key] >= minSupport:\n",
    "            retList.insert(0,key)\n",
    "            supportData[key] = SCnt[key]\n",
    "    return retList,supportData        "
   ]
  },
  {
   "cell_type": "code",
   "execution_count": 90,
   "metadata": {},
   "outputs": [],
   "source": [
    "def apriori(dataSet,minSupport=2):\n",
    "    C1 = createC1(dataSet)\n",
    "    D = list(map(set, dataSet))\n",
    "    L1, supportData = scanD(D, C1, minSupport)\n",
    "    L = [L1]\n",
    "    k=2\n",
    "    while len(L[k-2])>0:\n",
    "        Ck = aprioriGen(L[k-2],k)\n",
    "        Lk,supC = scanD(D,Ck,minSupport)\n",
    "        supportData.update(supC);\n",
    "        L.append(Lk)\n",
    "        k+=1\n",
    "    return L,supportData    \n",
    "        "
   ]
  },
  {
   "cell_type": "code",
   "execution_count": 91,
   "metadata": {},
   "outputs": [],
   "source": [
    "def aprioriGen(Lk, k):\n",
    "    retList=[]\n",
    "    l = len(Lk)\n",
    "    for i in range(0,l-1):\n",
    "        for j in range(i+1,l):\n",
    "            L1 = list(Lk[i])[:k-2]\n",
    "            L2 = list(Lk[j])[:k-2]\n",
    "            L1.sort()\n",
    "            L1.sort()\n",
    "            if L1==L2:\n",
    "                retList.append(Lk[i]|Lk[j])\n",
    "    return retList  \n",
    "\n"
   ]
  },
  {
   "cell_type": "code",
   "execution_count": 92,
   "metadata": {},
   "outputs": [],
   "source": [
    "L,supportData = apriori(loadDataSet())"
   ]
  },
  {
   "cell_type": "code",
   "execution_count": 93,
   "metadata": {},
   "outputs": [],
   "source": [
    "def generateRules(L,supportData,minConf=0.4):\n",
    "    bigRuleList=[]\n",
    "    #for i in range(1,len(L)):\n",
    "    for freqSet in L[-2]:\n",
    "        H1 = [frozenset([item]) for item in freqSet]\n",
    "        calcConf(freqSet,H1,supportData,bigRuleList,minConf)\n",
    "    return bigRuleList"
   ]
  },
  {
   "cell_type": "code",
   "execution_count": 94,
   "metadata": {},
   "outputs": [],
   "source": [
    "def calcConf(freqSet,H,supportData,brl,minConf):\n",
    "    prunedH = []\n",
    "    for conseq in H:\n",
    "        conf = supportData[freqSet]/supportData[freqSet-conseq]\n",
    "        if conf>=minConf:\n",
    "            brl.append((freqSet-conseq,conseq,conf))\n",
    "            prunedH.append(conseq)\n",
    "    return prunedH"
   ]
  },
  {
   "cell_type": "code",
   "execution_count": 95,
   "metadata": {},
   "outputs": [],
   "source": [
    "R = generateRules(L,supportData)"
   ]
  },
  {
   "cell_type": "code",
   "execution_count": 119,
   "metadata": {},
   "outputs": [
    {
     "name": "stdout",
     "output_type": "stream",
     "text": [
      "Association Rules:\n",
      "{'A', 'C'} --> {'B'}\n",
      "{'B', 'A'} --> {'C'}\n",
      "{'B', 'C'} --> {'A'}\n",
      "{'B', 'A'} --> {'E'}\n",
      "{'E', 'A'} --> {'B'}\n",
      "{'E', 'B'} --> {'A'}\n"
     ]
    }
   ],
   "source": [
    "a = []\n",
    "for rules in R:\n",
    "    for i in rules:\n",
    "        a.append(i)\n",
    "print('Association Rules:')        \n",
    "for i in range(0,len(a),3):\n",
    "    print(set(a[i]),'-->',set(a[i+1]))"
   ]
  },
  {
   "cell_type": "code",
   "execution_count": null,
   "metadata": {},
   "outputs": [],
   "source": []
  }
 ],
 "metadata": {
  "kernelspec": {
   "display_name": "Python 3",
   "language": "python",
   "name": "python3"
  },
  "language_info": {
   "codemirror_mode": {
    "name": "ipython",
    "version": 3
   },
   "file_extension": ".py",
   "mimetype": "text/x-python",
   "name": "python",
   "nbconvert_exporter": "python",
   "pygments_lexer": "ipython3",
   "version": "3.6.4"
  }
 },
 "nbformat": 4,
 "nbformat_minor": 2
}
